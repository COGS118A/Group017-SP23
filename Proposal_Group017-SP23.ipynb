{
 "cells": [
  {
   "cell_type": "markdown",
   "metadata": {},
   "source": [
    "# COGS 118A- Project Proposal"
   ]
  },
  {
   "cell_type": "markdown",
   "metadata": {},
   "source": []
  },
  {
   "cell_type": "markdown",
   "metadata": {},
   "source": [
    "# Names\n",
    "\n",
    "- Sreetama Chowdhury\n",
    "- Lucy Lenneman\n",
    "- Prabhjyot Sodhi\n",
    "- Sukhman Virk"
   ]
  },
  {
   "cell_type": "markdown",
   "metadata": {},
   "source": [
    "# Abstract \n",
    "The goal of this project is to use a set of factors about the houses in a neighborhood to predict median house value within that neighborhood. We intend for this to be a regression task, with the data we use containing such variables as latitude/longitude, the population of a block of houses, the number of households within a block, and more. We plan to conduct model selection across several different model types (linear regression, kNN, random forest, decision trees) so as to optimize for minimum error, after which we will test the final and best model and see how accurately it can predict pricing. Accuracy will be measured via metrics like mean absolute error.\n"
   ]
  },
  {
   "cell_type": "markdown",
   "metadata": {},
   "source": [
    "# Background\n",
    "\n",
    "The prediction of house prices in a certain area is a well researched topic in the field of Machine Learning. There have been several instances of research conducted to develop accurate models using various datasets. The dataset we used is the California House Prices dataset available on Kaggle, which provides information taken from the 1990 CA Census about housing features and corresponding prices in different neighborhoods of California. There have been studies that have utilized similar datasets to try to model the relationship between house attributes and their prices, employing various machine learning algorithms such as regression, random forests, and SVMs.<a name=\"huang\"></a>[<sup>[1]</sup>](#huangnote),<a name=\"manasa\"></a>[<sup>[2]</sup>](#manasanote)\n",
    "\n",
    "These studies have tried to create accurate models that can estimate house prices based on a variety of features. Researchers have aimed to provide insights using these models for not only homebuyers, but also sellers and real estate professionals, helping them in making informed decisions regarding housing investments.\n",
    "\n",
    "The California housing dataset that our project is using is a modified version of the California Housing dataset, initially featured in a paper by Pace, R. Kelley, and Ronald Barry about simultaneous autoregressions.<a name=\"pace\"></a>[<sup>[3]</sup>](#pacenote)"
   ]
  },
  {
   "cell_type": "markdown",
   "metadata": {},
   "source": [
    "# Problem Statement\n",
    "\n",
    "Searching for housing is a tricky thing throughout the state of California, as we as UCSD students well know; there are a preponderance of factors (the most important of which is *price*) that determine whether a home in a given location is a good fit for a resident. House price is a key factor in many decisions on both ends of the spectrum: the areas a potential buyer looks at when house hunting depends largely on what house price tends to be in those areas, or current homeowners planning to move out may hesitate to sell their home until they can have a good estimate of how much they'll get for it. \n",
    "\n",
    "Our project aims to use various given factors about the houses in a given California neighborhood to predict (via several ML models such as linear regression, k nearest neighbors, decision trees, and random forests) the neighborhood's median house value, providing people with a numerically analyzable measure of central tendency that could sway them in their real estate decisions. In other words, our project will be able to answer the question of: given such variables as median house age, number of rooms, and median income within a block of houses, can we predict what the median house price of a house in that block/neighborhood would be? \n"
   ]
  },
  {
   "cell_type": "markdown",
   "metadata": {},
   "source": [
    "# Data\n",
    "\n",
    "The dataset that we are using is a collection of 1990 CA Census data from Kaggle, <a name=\"nugent\"></a>[<sup>[4]</sup>](#nugentnote) which is about California housing prices. Features include:\n",
    "\n",
    "* Longitude of houses (with two significant figures)\n",
    "* Latitude of houses (with two significant figures) \n",
    "* Housing median age* (with one significant figure) \n",
    "* Total rooms of houses* (with one significant figure) \n",
    "* Total bedrooms of houses* (with one significant figure)\n",
    "* Population around houses* (with one significant figure)\n",
    "* Number of households (units of people living together)*(with one significant figure)\n",
    "* Median income of house owners* (with four significant figures)\n",
    "* Median house value* (with one significant figure)\n",
    "* Ocean proximity from houses (<1H ocean / Inland / Other)\n",
    "\n",
    "\\* for a block of houses\n",
    "\n",
    "\\We have ten features and around 20000 observations to work with in our project. We may need to do some cleaning of the data, such as dropping observations with missing values, and we also need to one hot encode the categorical variable of proximity to the ocean. We are currently considering every variable to be a critical variable, especially since the model is not yet trained. We will give more importance to certain variables if we feel our model fits better that way. Some of the important variables we hypothesize will make a significant impact on predicting housing price are median income and population. \n",
    "\n"
   ]
  },
  {
   "cell_type": "markdown",
   "metadata": {},
   "source": [
    "# Proposed Solution\n",
    "\n",
    "One solution to our problem is to implement a multivariate regression model because we are utilizing multiple variables, such as proximity to the ocean, total rooms within a block, and number of households within a block, to predict the numerical housing prices for a given neighborhood.  Using the form $y_i = \\mathbf{w}x + b$, we will find the optimal weight values analytically because linear regression provides a closed form solution rather than forcing us to go through gradient descent. \n",
    "\n",
    "We are also planning on trying a k-nearest neighbors model when doing model selection to determine the best model to approach our problem. This will cluster the neighborhoods in our training data into groups based on their similarities to each other. During testing, the kNN model will determine which cluster the test data is most similar to and predict the housing prices based on that. Because we only have ten variables, the dimension of the features is small enough that we won’t have problems with having a too large dimension where all the neighbors are far from each other.\n",
    "\n",
    "We will select our algorithm through nested cross-validation, where the inner loop selects the best hyperparameters for each algorithm, and the outer loop determines which algorithm performed better on the test data. Once we have selected an algorithm, we will use cross validation in combination with random search to select hyperparameters to best optimize our model. We will use the Python library sklearn.\n"
   ]
  },
  {
   "cell_type": "markdown",
   "metadata": {},
   "source": [
    "# Evaluation Metrics\n",
    "\n",
    "For our multivariate regression model, we are planning on mean absolute error (MAE), which is represented by the following formula:  \n",
    "\n",
    "\\begin{align*}\n",
    "\t\\text{MAE } &= |y_i - (\\mathbf{w}x_i + b)| \\\\\n",
    "\\end{align*}\n",
    "\n",
    "House prices have many outliers, for example houses that are priced extremely high, so we don’t want to rely on mean squared error. We will instead use mean absolute error, which is not as affected by outliers. By using MAE, we can make better predictions about housing prices. \n"
   ]
  },
  {
   "cell_type": "markdown",
   "metadata": {},
   "source": [
    "# Ethics & Privacy"
   ]
  },
  {
   "cell_type": "markdown",
   "metadata": {},
   "source": [
    "We understand and are aware that our project should follow certain ethics and data privacy guidelines. The Kaggle dataset we are using pulls from the 1990 US census data, which means a lot of standard concerns about personally identifiable information or informed consent are already taken care of. However, we understand that there might be some ethical implications when we consider other factors that affect housing prices that aren’t included in the dataset — for example the racial makeup of the population. Because the data only looks at limited aspects/variables, there may be bias or factors that we fail to consider in our predictions.\n"
   ]
  },
  {
   "cell_type": "markdown",
   "metadata": {},
   "source": [
    "# Team Expectations "
   ]
  },
  {
   "cell_type": "markdown",
   "metadata": {},
   "source": [
    "* Equal contribution from each team member\n",
    "* Communication throughout the course of the project, especially if someone is struggling with their assigned work\n",
    "* Getting work done by agreed-upon deadlines\n",
    "* Setting meeting goals of what to talk about\n",
    "* Accountability (if necessary) in terms of work progress\n",
    "* Looking over each project checkpoint as a group before turning it in"
   ]
  },
  {
   "cell_type": "markdown",
   "metadata": {},
   "source": [
    "# Project Timeline Proposal"
   ]
  },
  {
   "cell_type": "markdown",
   "metadata": {},
   "source": [
    "| Meeting Date  | Meeting Time| Completed Before Meeting  | Discuss at Meeting |\n",
    "|---|---|---|---|\n",
    "| 5/22 | 10:30 AM | (hopefully) look over proposal corrections | plan of action before checkpoint #2\n",
    "| 5/24  |  10:30 AM |  understand division of work + have started individual parts  | evaluate work in progress + make any logistical corrections necessary | \n",
    "| 5/31  |  10:30 AM |  finish individual parts of checkpoint work | discuss preliminary results + plan for further work + edit & finalize formatting for checkpoint #2 and submit | \n",
    "| 6/5 | 10:30 AM | (hopefully) look over checkpoint #2 corrections | plan of action for continuing work (divide up further tasks)\n",
    "| 6/7  | 10:30 AM  | significant progress on tasks post-checkpoint #2  | discuss results + analysis, divide up sections of the report to complete\n",
    "| 6/14  | 10:30 AM  | have completed all work on the project | edit & finalize formatting for final project notebook and submit "
   ]
  },
  {
   "cell_type": "markdown",
   "metadata": {},
   "source": [
    "# Footnotes\n",
    "<a name=\"huangnote\"></a>1.[^](#huang): Huang, Y. (2019). Predicting Home Value in California, United States via Machine Learning Modeling. Statistics, Optimization & Information Computing, 7(1), 66-74. https://doi.org/10.19139/soic.v7i1.435.<br>\n",
    "<a name=\"manasanote\"></a>2.[^](#manasa): J. Manasa, R. Gupta and N. S. Narahari, \"Machine Learning based Predicting House Prices using Regression Techniques,\" 2020 2nd International Conference on Innovative Mechanisms for Industry Applications (ICIMIA), Bangalore, India, 2020, pp. 624-630, doi: 10.1109/ICIMIA48430.2020.9074952.<br>\n",
    "<a name=\"pacenote\"></a>3.[^](#pace): Pace, R. Kelley and Ronald Barry, Sparse Spatial Autoregressions, Statistics and Probability Letters, 33 (1997) 291-297. https://www.dcc.fc.up.pt/~ltorgo/Regression/cal_housing.html.<br>\n",
    "<a name=\"nugentnote\"></a>4.[^](#nugent): Cam Nugent. 2018. California Housing Prices, Version 1. https://www.kaggle.com/datasets/camnugent/california-housing-prices?resource=download<br>\n",
    "\n"
   ]
  },
  {
   "cell_type": "code",
   "execution_count": null,
   "metadata": {},
   "outputs": [],
   "source": []
  }
 ],
 "metadata": {
  "kernelspec": {
   "display_name": "Python 3 (ipykernel)",
   "language": "python",
   "name": "python3"
  },
  "language_info": {
   "codemirror_mode": {
    "name": "ipython",
    "version": 3
   },
   "file_extension": ".py",
   "mimetype": "text/x-python",
   "name": "python",
   "nbconvert_exporter": "python",
   "pygments_lexer": "ipython3",
   "version": "3.9.7"
  }
 },
 "nbformat": 4,
 "nbformat_minor": 2
}
